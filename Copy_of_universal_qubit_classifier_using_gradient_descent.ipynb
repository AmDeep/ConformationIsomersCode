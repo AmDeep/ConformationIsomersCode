{
  "nbformat": 4,
  "nbformat_minor": 0,
  "metadata": {
    "kernelspec": {
      "name": "python3",
      "display_name": "Python 3"
    },
    "language_info": {
      "codemirror_mode": {
        "name": "ipython",
        "version": 3
      },
      "file_extension": ".py",
      "mimetype": "text/x-python",
      "name": "python",
      "nbconvert_exporter": "python",
      "pygments_lexer": "ipython3",
      "version": "3.6.9"
    },
    "colab": {
      "name": "Copy of universal_qubit_classifier_using_gradient_descent.ipynb",
      "provenance": [],
      "collapsed_sections": [],
      "toc_visible": true
    },
    "accelerator": "GPU"
  },
  "cells": [
    {
      "cell_type": "code",
      "metadata": {
        "id": "WQG-l10Nt7uR",
        "outputId": "979e690c-04e7-4964-aa3f-53b4c9800fcf",
        "colab": {
          "base_uri": "https://localhost:8080/",
          "height": 547
        }
      },
      "source": [
        "!pip install qiskit -q --upgrade\n",
        "\n",
        "import qiskit.tools.jupyter\n",
        "%qiskit_version_table\n",
        "%qiskit_copyright"
      ],
      "execution_count": null,
      "outputs": [
        {
          "output_type": "display_data",
          "data": {
            "text/html": [
              "<h3>Version Information</h3><table><tr><th>Qiskit Software</th><th>Version</th></tr><tr><td>Qiskit</td><td>None</td></tr><tr><td>Terra</td><td>0.11.1</td></tr><tr><td>Aer</td><td>0.3.4</td></tr><tr><td>Ignis</td><td>0.2.0</td></tr><tr><td>Aqua</td><td>0.6.2</td></tr><tr><td>IBM Q Provider</td><td>0.4.5</td></tr><tr><th>System information</th></tr><tr><td>Python</td><td>3.6.9 (default, Nov  7 2019, 10:44:02) \n",
              "[GCC 8.3.0]</td></tr><tr><td>OS</td><td>Linux</td></tr><tr><td>CPUs</td><td>1</td></tr><tr><td>Memory (Gb)</td><td>12.715873718261719</td></tr><tr><td colspan='2'>Fri Jan 17 05:57:31 2020 UTC</td></tr></table>"
            ],
            "text/plain": [
              "<IPython.core.display.HTML object>"
            ]
          },
          "metadata": {
            "tags": []
          }
        },
        {
          "output_type": "display_data",
          "data": {
            "text/html": [
              "<div style='width: 100%; background-color:#d5d9e0;padding-left: 10px; padding-bottom: 10px; padding-right: 10px; padding-top: 5px'><h3>This code is a part of Qiskit</h3><p>&copy; Copyright IBM 2017, 2020.</p><p>This code is licensed under the Apache License, Version 2.0. You may<br>obtain a copy of this license in the LICENSE.txt file in the root directory<br> of this source tree or at http://www.apache.org/licenses/LICENSE-2.0.<p>Any modifications or derivative works of this code must retain this<br>copyright notice, and modified files need to carry a notice indicating<br>that they have been altered from the originals.</p></div>"
            ],
            "text/plain": [
              "<IPython.core.display.HTML object>"
            ]
          },
          "metadata": {
            "tags": []
          }
        }
      ]
    },
    {
      "cell_type": "markdown",
      "metadata": {
        "id": "uvUHy0TqnK_m"
      },
      "source": [
        "By now, you may be wondering about [Qiskit](https://qiskit.org/). Well, it may appear to you as a normal python package that presents some tools for quantum programming. You're not entirely wrong about that. However, it's IBM's main framework for quantum computing. This means that it gives you the required means to control actual quantum computers, calibrate the errors that may occur during executing any circuit, build different quantum algorithms, and of course visualise most of them. It's safe to say that It's a full stack framework where both Hardware and Software quantum developers are working together. You may find all the details you want on their online website."
      ]
    },
    {
      "cell_type": "markdown",
      "metadata": {
        "id": "ewl2o-xLqkBT"
      },
      "source": [
        "## **Problem Definition**\n",
        "\n",
        "The probelm is simply a binary classification task but with a non-linear sepearable dataset. This dataset is chosen to show that the quantum algorithm used for this tutorial is good enough to tackle similar problems easily. The following cell imports the required libraries to plot the dataset."
      ]
    },
    {
      "cell_type": "code",
      "metadata": {
        "id": "0h4-qhnCtYqN",
        "outputId": "1d88b253-826d-4974-9b27-9da942fbd717",
        "colab": {
          "base_uri": "https://localhost:8080/",
          "height": 316
        }
      },
      "source": [
        "from sklearn.datasets import make_moons\n",
        "from sklearn.model_selection import train_test_split\n",
        "from sklearn.preprocessing import MinMaxScaler\n",
        "import matplotlib.pylab as plt\n",
        "\n",
        "n_samples = 900\n",
        "test_size = 0.1\n",
        "\n",
        "data,labels = make_moons(n_samples=n_samples,random_state=5,noise=0.04) \n",
        "\n",
        "#splitting the data evenly\n",
        "x_train,x_test,y_train,y_test = train_test_split(data,labels,stratify=labels,test_size=test_size,random_state=0)\n",
        "\n",
        "#preprocessing\n",
        "scale = MinMaxScaler(feature_range=(-1,1)).fit(x_train)\n",
        "x_train = scale.transform(x_train)\n",
        "x_test = scale.transform(x_test)\n",
        "\n",
        "print('shape of the training & testing data: ', x_train.shape, x_test.shape)\n",
        "\n",
        "#simple plotting\n",
        "plt.scatter(x_train[:,0][y_train==0], x_train[:,1][y_train==0], marker='o', \n",
        "            color='red', label='class 0')\n",
        "plt.scatter(x_train[:,0][y_train==1], x_train[:,1][y_train==1], marker='*', \n",
        "            color='blue', label='class 1')\n",
        "plt.scatter(x_test[:,0][y_test==0], x_test[:,1][y_test==0], marker='+', \n",
        "            color='yellow', label='test 0')\n",
        "plt.scatter(x_test[:,0][y_test==1], x_test[:,1][y_test==1], marker='x', \n",
        "            color='black', label='test 1')\n",
        "\n",
        "plt.legend()\n",
        "plt.show()\n",
        "\n",
        "print(\"number of samples for testing class_1: \",(y_test==1).sum())\n",
        "print(\"number of samples for testing class_0: \",(y_test==0).sum())"
      ],
      "execution_count": null,
      "outputs": [
        {
          "output_type": "stream",
          "text": [
            "shape of the training & testing data:  (810, 2) (90, 2)\n"
          ],
          "name": "stdout"
        },
        {
          "output_type": "display_data",
          "data": {
            "image/png": "[encoded data removed]",
            "text/plain": [
              "<Figure size 432x288 with 1 Axes>"
            ]
          },
          "metadata": {
            "tags": []
          }
        },
        {
          "output_type": "stream",
          "text": [
            "number of samples for testing class_1:  45\n",
            "number of samples for testing class_0:  45\n"
          ],
          "name": "stdout"
        }
      ]
    },
    {
      "cell_type": "markdown",
      "metadata": {
        "id": "8kw9i-wJuz5J"
      },
      "source": [
        "The dataset consists of *810* samples for training and *90* samples for testing. They are distributed equally and also scaled between [-1,1]. The typical way to handle such dataset is to use the [Support Vector Machine](http://web.mit.edu/6.034/wwwbob/svm-notes-long-08.pdf), [SVM with scikit-learn](https://scikit-learn.org/stable/modules/svm.html), and [SVM with QISKIT](https://iwatobipen.wordpress.com/2019/07/07/svm-on-quantum-computing-quantumcomputing-qiskit/) .\n",
        "\n",
        "I do urge you to check the first two links if you are not familiar with it. The third link is a direct implementation of quantum SVM algorithm using qiskit-aqua. You may want to check it after finishing this tutorial or if you already familiar with both quantum computing and machine learning then go ahead and open it.\n",
        "\n",
        "The following code with show you how the svm can solve this problem easily:\n"
      ]
    },
    {
      "cell_type": "code",
      "metadata": {
        "id": "ype4ufwwHoDe",
        "outputId": "780aa6ae-ff5f-4af3-cc3a-964b2698e741",
        "colab": {
          "base_uri": "https://localhost:8080/",
          "height": 34
        }
      },
      "source": [
        "from sklearn.svm import SVC\n",
        "import numpy as np\n",
        "\n",
        "model = SVC(kernel = 'rbf', gamma = 'scale', C = 1, random_state = 0)\n",
        "\n",
        "model.fit(x_train,y_train)\n",
        "\n",
        "print(\"accuracy of testing is: \", model.score(x_test,y_test))"
      ],
      "execution_count": null,
      "outputs": [
        {
          "output_type": "stream",
          "text": [
            "accuracy of testing is:  1.0\n"
          ],
          "name": "stdout"
        }
      ]
    },
    {
      "cell_type": "markdown",
      "metadata": {
        "id": "ypC2XY5xIbCU"
      },
      "source": [
        "**plotting the decision boundary**\n"
      ]
    },
    {
      "cell_type": "code",
      "metadata": {
        "id": "HsfoW6wWIo49",
        "outputId": "516dce37-8cae-4985-db69-91c62297bce1",
        "colab": {
          "base_uri": "https://localhost:8080/",
          "height": 314
        }
      },
      "source": [
        "#creating the surface\n",
        "xx, yy = np.meshgrid(np.linspace(-1, 1, 500), np.linspace(-1, 1, 500))\n",
        "X_grid = [np.array([x, y]) for x, y in zip(xx.flatten(), yy.flatten())]\n",
        "predictions_grid = model.predict(X_grid)\n",
        "Z = np.reshape(np.array(predictions_grid), xx.shape)\n",
        "\n",
        "cm = plt.cm.RdBu\n",
        "\n",
        "cnt = plt.contourf(xx, yy, Z, levels=np.arange(0., 1.1, 0.1), cmap=cm, alpha=.8)\n",
        "\n",
        "plt.colorbar(cnt, ticks=[0, 0.5, 1])\n",
        "\n",
        "plt.scatter(x_train[:, 0][y_train==0], x_train[:, 1][y_train==0], c='g',\n",
        "            marker='^', edgecolors='k',label='train 0')\n",
        "plt.scatter(x_train[:, 0][y_train==1], x_train[:, 1][y_train==1], c='b',\n",
        "            marker='*', edgecolors='k',label='train 1')\n",
        "plt.scatter(x_test[:, 0][y_test==0], x_test[:, 1][y_test==0], c='r',\n",
        "            marker='+', edgecolors='k',label='test 0')\n",
        "plt.scatter(x_test[:, 0][y_test==1], x_test[:, 1][y_test==1], c='yellow',\n",
        "            marker='x', edgecolors='k',label='test 1')\n",
        "\n",
        "plt.ylim(-1.07, 1.07)\n",
        "plt.xlim(-1.07, 1.07)\n",
        "\n",
        "plt.legend()\n",
        "plt.tight_layout()\n",
        "plt.show()\n",
        "print(model.n_support_)"
      ],
      "execution_count": null,
      "outputs": [
        {
          "output_type": "display_data",
          "data": {
            "image/png": "[encoded data removed]",
            "text/plain": [
              "<Figure size 432x288 with 2 Axes>"
            ]
          },
          "metadata": {
            "tags": []
          }
        },
        {
          "output_type": "stream",
          "text": [
            "[27 27]\n"
          ],
          "name": "stdout"
        }
      ]
    },
    {
      "cell_type": "markdown",
      "metadata": {
        "id": "aVKyzltQKtGI"
      },
      "source": [
        " **Voila!** you've done it. Then why bother doing the same thing but in a quantum way. You may find some answers to this question but most of them wouldn't be encourging from a business point of view because you already do have an efficient, fast, and clean way. On the other hand, considering real world scenarios, Neural Networks play the most important and vital role in both academia and industry.\n",
        "\n",
        "The most reasonable answer for this question is a small history lesson. 15 years ago this [paper](https://lear.inrialpes.fr/people/triggs/pubs/Dalal-cvpr05.pdf) was the true state of the art, the hype and the coolest thing to use for detecting objects and of course recognising them. It used only a ***Linear Kernel*** for the SVM. After 4 to 5 years GPUs started to be affordable to everyone and this simply led to using them for very complex algebric computations. \n",
        "\n",
        "As a natural consequence this [paper](https://papers.nips.cc/paper/4824-imagenet-classification-with-deep-convolutional-neural-networks.pdf) by Alex Krizhevsky, Ilya Sutskever, and Geoffrey E. Hinton has officially started the deep learning era. However in 1998 this [paper](http://yann.lecun.com/exdb/publis/pdf/lecun-01a.pdf) by Yann LeCun, Leon Bottou, Yoshua Bengio, and Patrick Haffner, has actually presented a very promising convolutional neural network for recognising handwritten english numbers aka the mnist dataset. But it was incredibly hard to use this wonderful and novel architecture with the available hardware back then.\n",
        "\n",
        "In the next 15 to 20 years from now, Quantum Computers would be more powerful, immune to noise, and most importantly essential for us to move on to the next step of solving classically intractable problems as shown in the following figure:"
      ]
    },
    {
      "cell_type": "markdown",
      "metadata": {
        "id": "CnMI_XEIUcuI"
      },
      "source": [
        "![alt text](https://ocw.mit.edu/courses/electrical-engineering-and-computer-science/6-845-quantum-complexity-theory-fall-2010/6-845f10.jpg) \n",
        "\n",
        "It's taken from this great [course form MIT](https://ocw.mit.edu/courses/electrical-engineering-and-computer-science/6-845-quantum-complexity-theory-fall-2010/) about Complexity Theory taughy by Prof. Scott Aaronson. \n",
        "\n",
        "Quantum Computation is the natural evolution of the information processing industry and whether you agree or disagree with that it's happening. Let's start introducing some important concepts regarding quantum computing."
      ]
    },
    {
      "cell_type": "markdown",
      "metadata": {
        "id": "ccAr9N53UkZq"
      },
      "source": [
        "## **Quantum Computing Basics**\n",
        "\n",
        "Information like numbers, voice recordings, or text is encoded into simply *ones* and *zeros*. By combining billions of transistors you can build up different architectures of computers to represent whatever you like. \n",
        "\n",
        "From a quantum point of view instead of a \"big transistor\" that can only produce an on or an off state at a time, a quantum particle like for example an electron can encode 2 classical states the zero and the one.\n",
        "\n",
        "Let us clarify this mathematically: [bra-ket notation](https://en.wikipedia.org/wiki/Bra%E2%80%93ket_notation)"
      ]
    },
    {
      "cell_type": "markdown",
      "metadata": {
        "id": "Pm38fR-1W0jM"
      },
      "source": [
        "\\begin{align}\n",
        "  & \\left| \\psi  \\right\\rangle =\\alpha \\left| 0 \\right\\rangle +\\beta \\left| 1 \\right\\rangle \\, $ eq(1)\\\\ & \n",
        "  where\\,\\,  alpha\\, \\,  and\\, \\, beta \\in \\mathbb{C} \\\\ & {{\\alpha }^{2}}+{{\\beta }^{2}}=1, \\\\ \n",
        " & \\operatorname{and}\\,\\left| \\, \\right\\rangle \\,,\\left\\langle  \\, \\right|\\,\\text{are}\\,\\text{called}\\,\\text{the}\\,\\text{ket}\\,\\text{and}\\,\\text{bra}\\,\\text{notations} \\\\ \n",
        "\\end{align}\n"
      ]
    },
    {
      "cell_type": "markdown",
      "metadata": {
        "id": "V2A2i6DhnV5P"
      },
      "source": [
        "The quantum state $\\psi$ can be represented by its ground and excited states the zero and the one at the same time. $\\alpha$ and $\\beta$ are complex numbers and determine the possiblity of each eigen vector. So, the zero and the one are not simply numbers but rather they represent the eigen vectors of the system as follows: \n",
        "\\begin{align}\n",
        "\\left| 0 \\right\\rangle =\\left[ \\begin{matrix}\n",
        "   1  \\\\\n",
        "   0  \\\\\n",
        "\\end{matrix} \\right]\n",
        "\\end{align}\n",
        "\n",
        "\\begin{align}\n",
        "\\left| 1 \\right\\rangle =\\left[ \\begin{matrix}\n",
        "   0  \\\\\n",
        "   1  \\\\\n",
        "\\end{matrix}\\right]\n",
        "\\end{align}\n",
        "\n",
        "eq(1) can be written in a more general form as follows:\n",
        "\\begin{align}\n",
        "\\left| \\psi  \\right\\rangle \\,=\\,\\cos \\left( \\frac{\\theta }{2} \\right)\\left| 0 \\right\\rangle \\,+\\,{{e}^{i\\varphi }}\\sin \\left( \\frac{\\theta }{2} \\right)\\left| 1 \\right\\rangle \\ \\ \\ \\ \\ \\  \\ \\ \\  \\ \\ \\ \\  \\ \\ \\ \\ \\ \\ \\  \\ \\ \\ \\ \\ \\ \\ \\ \\  eq (2) \\end{align}"
      ]
    },
    {
      "cell_type": "markdown",
      "metadata": {
        "id": "TBWhjXdatwfX"
      },
      "source": [
        "Eq(2) resembles a very famous notation which is the [Bloch Sphere](http://www.vcpc.univie.ac.at/~ian/hotlist/qc/talks/bloch-sphere.pdf), [Bloch Sphere cont](http://www.vcpc.univie.ac.at/~ian/hotlist/qc/talks/bloch-sphere-rotations.pdf). I implore you to check these two links as they build up the first two equations and then explain how can we create any quantum state we want from basic roations as follows:\n",
        "\n",
        "\n",
        "\n",
        "\\begin{align}\n",
        "  & {{R}_{{\\hat{n}}}}\\left( \\theta  \\right)\\,=\\,\\cos \\left( \\frac{\\theta }{2} \\right)I\\,-\\,i\\,\\sin \\left( \\frac{\\theta }{2} \\right)\\hat{n}\\centerdot \\sigma  &         eq(3)\\\\ \\\\\n",
        " & where\\,\\,\\hat{n}\\centerdot \\sigma \\,=\\,\\left( {{{\\hat{n}}}_{x}}X+\\,{{{\\hat{n}}}_{y}}Y\\,+\\,{{{\\hat{n}}}_{z}}Z \\right) \\\\ \\\\ \\\\\n",
        "\\end{align}\n",
        "\n",
        "\n",
        "\n",
        "\n",
        "\\\\begin{align}\n",
        "  & {{R}_{x}}\\left( \\theta  \\right)={{e}^{-i\\frac{\\theta X}{2}}}=\\cos \\left( \\frac{\\theta }{2} \\right)I-i\\sin \\left( \\frac{\\theta }{2} \\right)X=\\left[ \\begin{matrix}\n",
        "   \\cos \\left( \\frac{\\theta }{2} \\right) & -i\\sin \\left( \\frac{\\theta }{2} \\right)  \\\\\n",
        "   -i\\sin \\left( \\frac{\\theta }{2} \\right) & \\cos \\left( \\frac{\\theta }{2} \\right)  \\\\\n",
        "\\end{matrix} \\right]\\, \\\\ \n",
        " & {{R}_{y}}\\left( \\theta  \\right)={{e}^{-i\\frac{\\theta \\text{Y}}{2}}}=\\cos \\left( \\frac{\\theta }{2} \\right)I-i\\sin \\left( \\frac{\\theta }{2} \\right)Y=\\left[ \\begin{matrix}\n",
        "   \\cos \\left( \\frac{\\theta }{2} \\right) & -\\sin \\left( \\frac{\\theta }{2} \\right)  \\\\\n",
        "   \\sin \\left( \\frac{\\theta }{2} \\right) & \\cos \\left( \\frac{\\theta }{2} \\right)  \\\\\n",
        "\\end{matrix} \\right] & eq(4) \\\\ \n",
        " & {{R}_{z}}\\left( \\theta  \\right)={{e}^{-i\\frac{\\theta Z}{2}}}=\\cos \\left( \\frac{\\theta }{2} \\right)I-i\\sin \\left( \\frac{\\theta }{2} \\right)Z=\\left[ \\begin{matrix}\n",
        "   {{e}^{-i\\frac{\\theta }{2}}} & 0  \\\\\n",
        "   0 & {{e}^{i\\frac{\\theta }{2}}}  \\\\\n",
        "\\end{matrix} \\right] \\\\ \\\\ \n",
        "\\end{align}\n",
        "\n",
        "\n",
        "\\begin{align}\n",
        "  & X\\,=\\,\\left[ \\begin{matrix}\n",
        "   0 & 1  \\\\\n",
        "   1 & 0  \\\\\n",
        "\\end{matrix} \\right] \\\\ \n",
        " & Y=\\,\\left[ \\begin{matrix}\n",
        "   0 & -i  \\\\\n",
        "   i & 0  \\\\\n",
        "\\end{matrix} \\right] & \\,\\,eq(5)\\\\ \n",
        " & Z=\\left[ \\begin{matrix}\n",
        "   1 & 0  \\\\\n",
        "   0 & -1  \\\\\n",
        "\\end{matrix} \\right] \\\\ \n",
        " & I\\,=\\,\\left[ \\begin{matrix}\n",
        "   1 & 0  \\\\\n",
        "   0 & 1  \\\\\n",
        "\\end{matrix} \\right] \\\\ \\\\\\\\\n",
        "\\end{align}\n",
        "\n",
        "\\begin{align}\n",
        "  & X\\left| 0 \\right\\rangle \\,=\\,\\left| 1 \\right\\rangle ,\\,\\,\\,\\,X\\left| 1 \\right\\rangle =\\left| 0 \\right\\rangle  \\\\ \n",
        " & Y\\left| 0 \\right\\rangle \\,=\\,i\\left| 1 \\right\\rangle ,\\,\\,\\,Y\\left| 1 \\right\\rangle \\,=\\,-i\\left| 0 \\right\\rangle  & eq(6)\\\\ \n",
        " & Z\\left| 0 \\right\\rangle \\,=\\,\\left| 0 \\right\\rangle ,\\,\\,\\,Z\\left| 1 \\right\\rangle \\,=-\\left| 1 \\right\\rangle  \\\\ \\\\\n",
        "\\end{align}"
      ]
    },
    {
      "cell_type": "markdown",
      "metadata": {
        "id": "u06VciKzyaBv"
      },
      "source": [
        "Let us break these down one by one:\n",
        "\n",
        "\n",
        "*   The implicaitons of the first equation are that any quantum state can be in a superposition of two different states, i.e. it might be in 0, or 1 at the same exact time.  \n",
        "\n",
        "*   $\\alpha$ and $\\beta$ are complex numbers i.e the space where the quantum state exists is a complex hilbert space and also have length of 1 since the sum of the squares equal 1.\n",
        "\n",
        "*   Since the length of the quantum state is one we can use discard the $r$ component in the spherical cordinates and focus more on the $\\theta$ and $\\alpha$ components.\n",
        "\n",
        "*   This will make it easier to find any arbitrary axis and rotate our quantum state inside the bloch shpere as shown in equation $3$ \n",
        "\n",
        "*   If we set $\\theta$ to $\\pi/2$ equation $5$ will be a special case of $4$ where we defined general rotational Gates that can span the three main axes $X$, $Y$, and $Z$.\n",
        "\n",
        "*   The following [tool](https://javafxpert.github.io/grok-bloch/?fbclid=IwAR1yC9NJ8ZooQh0zlwGAeChR4l9Xc-WLAvVJf7OhFRMBk8yrX0UoFXvLHOg) will give you a very good intution about what is going on if the maths is annoying.\n",
        "\n",
        "\n",
        "*   Equation $6$ shows the effet of the basic quantum gates on the eigen vector zero and eigen vector one.\n"
      ]
    },
    {
      "cell_type": "markdown",
      "metadata": {
        "id": "QTgi0hyT-79-"
      },
      "source": [
        "\n",
        "These rotational gates are very important as they enable us to encode our classical data into the quantum states using the free parameters like $\\theta$ for example.\n",
        "\n",
        "There is an important gate called the Rotational gate or $U_3$ where we have three parameters that allow us to encode our classical features in a single qubit.\n",
        "\n",
        "Let's say we have a vector $x$ that consists of $3$ features like this $x=[x_1,x_2,x_3]$ then $U_3=(\\theta,\\alpha,\\omega)$ will encompase the three features inside each parameter."
      ]
    },
    {
      "cell_type": "markdown",
      "metadata": {
        "id": "19fBDAK9FaJ2"
      },
      "source": [
        "## Implementing the quantum circuit\n",
        "\n",
        "The following cell contains a small snipt of code that shows the idea behind the universal qubit classifier. We start by pading the feature vector with zero and then encode it into the $U_3$ gate. we do the same thing for the second qubit. after that we follow it by another rotational gate but its parameters are randomly initialised. these paramterised gates will be optimized later on.\n",
        "\n",
        "there is somehting called the controlled $Z$ gate this is a source of entanglement you can check it in this amazing [book](https://qiskit.org/textbook/ch-gates/quantum-gates.html) by Qiskit.\n",
        "\n",
        "this entanglement is not necessary for the sucess of the architecture but i have included it here for the sake of completeness. the controlled $Z$ is repeated $l-1$ where $l$ is the number of repeated layers.\n",
        "\n",
        "If the feature vector is bigger than three let's say 6 features then 2 $U_3$ gates will be used to encode the feature and then the same thing would happen again."
      ]
    },
    {
      "cell_type": "code",
      "metadata": {
        "id": "wE2MG6SCF4mu",
        "outputId": "cb8b702f-17f1-48f0-d286-bb58f91f93e1",
        "colab": {
          "base_uri": "https://localhost:8080/",
          "height": 190
        }
      },
      "source": [
        "from qiskit import QuantumCircuit, QuantumRegister, ClassicalRegister\n",
        "from qiskit import *\n",
        "\n",
        "\n",
        "np.random.seed(0)\n",
        "\n",
        "weights = np.random.rand(2,2,3) # 2 qubits, 2 layers, 3 weights in each layer\n",
        "\n",
        "qc = QuantumCircuit(2)\n",
        "\n",
        "qc.u3(x_train[0][0],x_train[0][1],0,0)\n",
        "qc.u3(x_train[0][0],x_train[0][1],0,1)\n",
        "\n",
        "qc.u3(weights[0][0][0],weights[0][0][1],weights[0][0][2],0)\n",
        "qc.u3(weights[1][0][0],weights[1][0][1],weights[1][0][2],1)\n",
        "\n",
        "qc.cz(0,1)\n",
        "\n",
        "qc.u3(x_train[0][0],x_train[0][1],0,0)\n",
        "qc.u3(x_train[0][0],x_train[0][1],0,1)\n",
        "\n",
        "qc.u3(weights[0][1][0],weights[0][1][1],weights[0][1][2],0)\n",
        "qc.u3(weights[1][1][0],weights[1][1][1],weights[1][1][2],1)\n",
        "\n",
        "backend_sim = Aer.get_backend('statevector_simulator')\n",
        "\n",
        "job_sim = execute(qc, backend_sim)\n",
        "\n",
        "result_sim = job_sim.result()\n",
        "\n",
        "state_vector = result_sim.get_statevector(qc)\n",
        "print(state_vector)\n",
        "qc.draw(output='mpl',scale=0.8)"
      ],
      "execution_count": null,
      "outputs": [
        {
          "output_type": "stream",
          "text": [
            "[ 0.82628941-0.18968241j  0.02537003+0.38744843j -0.0946384 +0.22588754j\n",
            " -0.24386265+0.10514692j]\n"
          ],
          "name": "stdout"
        },
        {
          "output_type": "execute_result",
          "data": {
            "image/png": "[encoded data removed]",
            "text/plain": [
              "<Figure size 798.08x165.12 with 1 Axes>"
            ]
          },
          "metadata": {
            "tags": []
          },
          "execution_count": 24
        }
      ]
    },
    {
      "cell_type": "markdown",
      "metadata": {
        "id": "t_hOvtC6KSpg"
      },
      "source": [
        "Since the output from the quantum circuit is simply a vecctor, we can actually assign for each label a vector and then we measure the similarity between them. \n",
        "\n",
        "As we only have two labels $0$, and $1$ it would be great to encode these labels in the Zero state and One state as mentioned above and then do somehting called [fidelity measurement](https://en.wikipedia.org/wiki/Fidelity_of_quantum_states) where we compute the overlap between the state vector and the other two vectors. \n",
        "This can be achieved by $|<1|\\psi>|^2$ and $|<0|\\psi>|^2$ "
      ]
    },
    {
      "cell_type": "code",
      "metadata": {
        "id": "4eoezpS8KQTZ",
        "outputId": "6feb00a1-3d1f-4b93-f22e-7bbef463bfa0",
        "colab": {
          "base_uri": "https://localhost:8080/",
          "height": 68
        }
      },
      "source": [
        "from qiskit.quantum_info import state_fidelity\n",
        "\n",
        "print('the label of the first sample is: ', y_train[0])\n",
        "\n",
        "one = np.array([0,0,0,1],dtype='complex')\n",
        "\n",
        "zero = np.array([1,0,0,0],dtype='complex')\n",
        "\n",
        "print(state_fidelity(state_vector,one))\n",
        "print(state_fidelity(state_vector,zero))"
      ],
      "execution_count": null,
      "outputs": [
        {
          "output_type": "stream",
          "text": [
            "the label of the first sample is:  0\n",
            "0.07052486680732599\n",
            "0.7187336048871401\n"
          ],
          "name": "stdout"
        }
      ]
    },
    {
      "cell_type": "markdown",
      "metadata": {
        "id": "Rr79J5UVOClY"
      },
      "source": [
        "The higher the fidelity the better the accuracy and as we can see the label of the first sample is $0$ and its fidelity is the higher."
      ]
    },
    {
      "cell_type": "markdown",
      "metadata": {
        "id": "60_q-3GoMoU4"
      },
      "source": [
        "The output from the quantum circuit is then passed into a log loss function to compute the cost fucntion. this is the only difference between the paper and this tutorial where they defined their cost function to be $\\frac{1}{m}\\times(1-fidelity_m)$ where $m$ is number of samples "
      ]
    },
    {
      "cell_type": "markdown",
      "metadata": {
        "id": "-Tds84SKOcZP"
      },
      "source": [
        "***The authors of the paper discusses the possibilities of this architecture and its similarities to the classical neural networks in the second section of the paper and proved its universality as a quantum classifier.***"
      ]
    },
    {
      "cell_type": "markdown",
      "metadata": {
        "id": "gO5klmP8P-tF"
      },
      "source": [
        "## Code Implementation\n",
        "\n",
        "This section will contain all the necessary code to implement the paper using qiskit and it.\n",
        "\n",
        "The code is flexible to implement as many layers as you want with one or two qubits only you are of course welcome to upgrade the code for more qubits as you want.\n",
        "\n",
        "The fucntion create_data() must be modified if you want increase the number of features or increase the number of labels to more than $3$"
      ]
    },
    {
      "cell_type": "code",
      "metadata": {
        "id": "Ho8wC0k-t6lS"
      },
      "source": [
        "from qiskit import QuantumCircuit, QuantumRegister, ClassicalRegister\n",
        "from qiskit import *\n",
        "from qiskit.quantum_info.analysis import average_data\n",
        "from qiskit.quantum_info import state_fidelity\n",
        "from sklearn.metrics import accuracy_score,log_loss,confusion_matrix,classification_report\n",
        "import numpy as np\n",
        "from tqdm import tqdm \n",
        "from sklearn.datasets import make_moons\n",
        "from sklearn.model_selection import train_test_split\n",
        "from sklearn.preprocessing import MinMaxScaler\n",
        "import matplotlib.pylab as plt"
      ],
      "execution_count": null,
      "outputs": []
    },
    {
      "cell_type": "code",
      "metadata": {
        "id": "1PDmIbXNpLXH"
      },
      "source": [
        "n_qubits = 1\n",
        "layers = 6\n",
        "n_samples = 900"
      ],
      "execution_count": null,
      "outputs": []
    },
    {
      "cell_type": "code",
      "metadata": {
        "id": "s9MCEuuYpLOw"
      },
      "source": [
        "def cerate_data(n_qubits,layers,dataset_name,n_samples,test_size = 0.1,plot=True,normalize=True):\n",
        "\n",
        "  \"\"\"\n",
        "  this fucntion takes 4 main inputs:\n",
        "  n_qubits: int 1,....,n\n",
        "  layers: int 1,....,n\n",
        "  dataset_name: str like 'moons'\n",
        "  n_samples: int 2,......,n\n",
        "  test_size: float between 0 and 1\n",
        "\n",
        "  it returns the training and the testing dataset with their labels and also the \n",
        "  corrosponding target states and also the weights for training the classifier\n",
        "  \"\"\"\n",
        "\n",
        "  # creating circles dataset taken from: https://github.com/AdrianPerezSalinas/universal_qlassifier/blob/master/data_gen.py\n",
        "\n",
        "  def _circle(n_samples):\n",
        "    centers = np.array([[0, 0]])\n",
        "    radii = np.array([np.sqrt(1.8/np.pi)])\n",
        "    data=[]\n",
        "    dim = 2\n",
        "    labels=[]\n",
        "    np.random.seed(1000)\n",
        "    for i in range(samples):\n",
        "        x = 2 * (np.random.rand(dim)) - 1\n",
        "        y = 0\n",
        "        for c, r in zip(centers, radii):  \n",
        "            if np.linalg.norm(x - c) < r:\n",
        "                y = 1 \n",
        "\n",
        "        data.append(x)\n",
        "        labels.append(y)\n",
        "            \n",
        "    return np.array(data), np.array(labels)\n",
        "\n",
        "  if dataset_name.lower() == 'moons':\n",
        "    data,labels = make_moons(n_samples=n_samples,random_state=5,noise=0.04)\n",
        "  \n",
        "  if dataset_name.lower() == 'circles':\n",
        "    data,labels = _circle(n_samples)\n",
        "\n",
        "  x_train,x_test,y_train,y_test = train_test_split(data,labels,stratify=labels,test_size=test_size,random_state=0) # splitting data evenly\n",
        "\n",
        "  if normalize: # scale features  [-1:1]\n",
        "\n",
        "    if len(x_train.shape) == 1: #check for dimension to prevent any error from scaling\n",
        "      x_train = x_train.reshape(-1,1)\n",
        "      x_test = x_test.reshape(-1,1)\n",
        "\n",
        "    scale = MinMaxScaler(feature_range=(-1,1)).fit(x_train)\n",
        "    x_train = scale.transform(x_train)\n",
        "    x_test = scale.transform(x_test)\n",
        "  \n",
        "  #check features' dimensions and make it 3 or its multiples\n",
        "  if len(x_train)<3 or len(x_train) > 6:\n",
        "\n",
        "    if x_train.shape[1] == 2:\n",
        "\n",
        "      x_train = np.hstack((x_train,np.zeros(len(x_train)).reshape(-1,1)))\n",
        "      x_test = np.hstack((x_test,np.zeros(len(x_test)).reshape(-1,1)))\n",
        "\n",
        "    if x_train.shape[1] == 1:\n",
        "      \n",
        "      x_train = np.hstack((x_train,np.zeros(len(x_train)).reshape(-1,1),np.zeros(len(x_train)).reshape(-1,1)))\n",
        "      x_test = np.hstack((x_test,np.zeros(len(x_test)).reshape(-1,1),np.zeros(len(x_test)).reshape(-1,1)))\n",
        "    \n",
        "    if x_train.shape[1] == 4:\n",
        "      \n",
        "      x_train = np.hstack((x_train,np.zeros(len(x_train)).reshape(-1,1),np.zeros(len(x_train)).reshape(-1,1)))\n",
        "      x_test = np.hstack((x_test,np.zeros(len(x_test)).reshape(-1,1),np.zeros(len(x_test)).reshape(-1,1)))\n",
        "\n",
        "    if x_train.shape[1] == 5:\n",
        "\n",
        "      x_train = np.hstack((x_train,np.zeros(len(x_train)).reshape(-1,1)))\n",
        "      x_test = np.hstack((x_test,np.zeros(len(x_test)).reshape(-1,1)))\n",
        "    if x_train.shape[1] > 6:\n",
        "      raise ValueError(\"please create a dataset whose number of features are divisible by 3 as there is no checking mechanisim implemented for values bigger than 6\")\n",
        "\n",
        "  # prepare target states based on number of labels, currently only two-label is implemented\n",
        "\n",
        "  n_of_labels = len(np.unique(labels))\n",
        "\n",
        "  state_labels = np.zeros((n_of_labels,2**n_qubits),dtype=np.complex128)\n",
        "\n",
        "  if n_of_labels == 2:\n",
        "    state_labels[0,0] = 1\n",
        "    if n_qubits > 1:\n",
        "      state_labels[-1] = -1/np.sqrt(2)\n",
        "    else:\n",
        "      state_labels[-1,-1] = 1\n",
        "\n",
        "\n",
        "  # initialize weights  \n",
        "  np.random.seed(100) #to make results reproducible\n",
        "  weights = np.random.rand(n_qubits,layers,3)\n",
        "  \n",
        "  if plot:\n",
        "    plt.scatter(x_train[:,0][y_train==0], x_train[:,1][y_train==0], marker='o', \n",
        "                color='red', label='class 0')\n",
        "    plt.scatter(x_train[:,0][y_train==1], x_train[:,1][y_train==1], marker='*', \n",
        "                color='blue', label='class 1')\n",
        "    plt.legend()\n",
        "    plt.show()\n",
        "\n",
        "  return (x_train,y_train),(x_test,y_test),state_labels,weights\n"
      ],
      "execution_count": null,
      "outputs": []
    },
    {
      "cell_type": "code",
      "metadata": {
        "id": "fs7DQkwIsQN-",
        "outputId": "b3814a11-0669-4003-ea55-49de18eefc0b",
        "colab": {
          "base_uri": "https://localhost:8080/",
          "height": 265
        }
      },
      "source": [
        "(x_train,y_train),(x_test,y_test),State_labels,params = cerate_data(n_qubits,6,'moons',900,test_size=0.1)"
      ],
      "execution_count": null,
      "outputs": [
        {
          "output_type": "display_data",
          "data": {
            "image/png": "[encoded data removed]",
            "text/plain": [
              "<Figure size 432x288 with 1 Axes>"
            ]
          },
          "metadata": {
            "tags": []
          }
        }
      ]
    },
    {
      "cell_type": "code",
      "metadata": {
        "id": "R1w13xmftVHx",
        "outputId": "94623f4f-b3fd-4974-f1b4-abe07a7cdd51",
        "colab": {
          "base_uri": "https://localhost:8080/",
          "height": 153
        }
      },
      "source": [
        "State_labels[0],x_train.shape,params"
      ],
      "execution_count": null,
      "outputs": [
        {
          "output_type": "execute_result",
          "data": {
            "text/plain": [
              "(array([1.+0.j, 0.+0.j]),\n",
              " (810, 3),\n",
              " array([[[0.54340494, 0.27836939, 0.42451759],\n",
              "         [0.84477613, 0.00471886, 0.12156912],\n",
              "         [0.67074908, 0.82585276, 0.13670659],\n",
              "         [0.57509333, 0.89132195, 0.20920212],\n",
              "         [0.18532822, 0.10837689, 0.21969749],\n",
              "         [0.97862378, 0.81168315, 0.17194101]]]))"
            ]
          },
          "metadata": {
            "tags": []
          },
          "execution_count": 51
        }
      ]
    },
    {
      "cell_type": "markdown",
      "metadata": {
        "id": "nRZx_zlTQqlR"
      },
      "source": [
        "state labels are of shape 2 since we have only one qubit state and it's represented by a column vetor of two entries"
      ]
    },
    {
      "cell_type": "code",
      "metadata": {
        "id": "0tYP_dQSt6lm"
      },
      "source": [
        "def circuit(params,X,State_labels=State_labels):\n",
        "\n",
        "    \"\"\"\n",
        "\n",
        "    this function takes 3 inputs:\n",
        "\n",
        "    params: array like that determines the number of qubits and the number of layers\n",
        "    X: a single sample that contains the features\n",
        "    State_labels: are the target states created from create_data()    \n",
        "    it returns the fidelities from the two target states in a list\n",
        "\n",
        "    \"\"\"\n",
        "\n",
        "\n",
        "    \n",
        "    n_qubits = len(params)\n",
        "    layers = len(params[0])\n",
        "    qc = QuantumCircuit(n_qubits)\n",
        "    \n",
        "    n_features = len(X)\n",
        "\n",
        "    for layer in range(layers):\n",
        "        \n",
        "        for qubit in range(n_qubits):\n",
        "           \n",
        "            for index in range(0,n_features,3):\n",
        "              qc.u3(X[index],X[index+1],X[index+2],qubit)\n",
        "              \n",
        "            qc.u3(params[qubit][layer][0],params[qubit][layer][1],params[qubit][layer][2],qubit)\n",
        "            \n",
        "        if n_qubits > 1 and (layer < layers-1):\n",
        "          qc.cz(0,1)\n",
        "                \n",
        "    backend_sim = Aer.get_backend('statevector_simulator')\n",
        "\n",
        "    job_sim = execute(qc, backend_sim)\n",
        "\n",
        "    result_sim = job_sim.result()\n",
        "    \n",
        "    state_vector = result_sim.get_statevector(qc)\n",
        "    fid_1 = state_fidelity(state_vector,State_labels[0])\n",
        "    fid_2 = state_fidelity(state_vector,State_labels[1])\n",
        "    #print(average_data(counts,vals))\n",
        "    return [fid_1,fid_2]"
      ],
      "execution_count": null,
      "outputs": []
    },
    {
      "cell_type": "code",
      "metadata": {
        "id": "jwoKqroet6lu"
      },
      "source": [
        "def cost(params,X,y,State_labels):\n",
        "    \"\"\"\n",
        "    params: array like that determines the number of qubits and the number of layers\n",
        "    \n",
        "    X: samples that contain the features\n",
        "    \n",
        "    y: are the labels for that sample    \n",
        "\n",
        "    State_labels: are the target states created from create_data()\n",
        "\n",
        "    this function returns the binary cross entropy cost from the computed fidelities and corresponding labels\n",
        "    \"\"\"\n",
        "    value = []\n",
        "    \n",
        "    for i in range(len(X)):\n",
        "        value.append(circuit(params,X[i],State_labels))\n",
        "\n",
        "    res = log_loss(y,value,labels=y_train)\n",
        "   # print(res)\n",
        "    return res\n",
        "        "
      ],
      "execution_count": null,
      "outputs": []
    },
    {
      "cell_type": "markdown",
      "metadata": {
        "id": "9oeIAVq-PSTx"
      },
      "source": [
        "### Quantum Gradients\n",
        "\n",
        "[Quantum gradients](https://arxiv.org/abs/1811.11184) can be computed by the following equation:\n",
        "\n",
        "\\begin{align}\n",
        "  \\frac{df}{d\\theta }\\,=\\,\\frac{1}{2}\\,\\left( f\\left( x,\\theta +\\frac{\\pi }{2} \\right)-f\\left( x,\\theta -\\frac{\\pi }{2} \\right) \\right)\\\\ \\\\\n",
        "\\end{align}\n",
        "\n",
        "where $x$ is the input data, $\\theta$ is the weights and $f$ is quantum unitary gate. \n",
        "\n"
      ]
    },
    {
      "cell_type": "code",
      "metadata": {
        "id": "i-ZRP66-t6lz"
      },
      "source": [
        "def gradient(params,x,y,State_labels):\n",
        "    \"\"\"\n",
        "    this function computes the gradients for each varaible in the quantum circuit\n",
        "    it takes:\n",
        "    x: a single sample\n",
        "    y: the corresponding label\n",
        "    State_labels: are the target states created from create_data()\n",
        "    \"\"\"\n",
        "    g = np.zeros(params.shape)\n",
        "    \n",
        "    for qubit in range(len(params)):\n",
        "        \n",
        "        for layer in range(len(params[qubit])):\n",
        "            \n",
        "            for val in range(len(params[qubit][layer])):\n",
        "                \n",
        "        \n",
        "                params[qubit][layer][val] = params[qubit][layer][val]+np.pi/2\n",
        "                \n",
        "                F1 = cost(params,x,y,State_labels)\n",
        "                \n",
        "                params[qubit][layer][val] = params[qubit][layer][val]-np.pi/2\n",
        "                \n",
        "                \n",
        "                params[qubit][layer][val] = params[qubit][layer][val]-np.pi/2\n",
        "    \n",
        "                F2 = cost(params,x,y,State_labels)\n",
        "                \n",
        "                params[qubit][layer][val] = params[qubit][layer][val]+np.pi/2\n",
        "                \n",
        "                g[qubit][layer][val] = (F1-F2)/2\n",
        "    return g"
      ],
      "execution_count": null,
      "outputs": []
    },
    {
      "cell_type": "code",
      "metadata": {
        "id": "E6eHULlEObkA"
      },
      "source": [
        "def optimize(params,X,y,lr,State_labels):\n",
        "    \"\"\"\n",
        "\n",
        "    this fucntion controls SGD by computing the gradients and updating the weights\n",
        "\n",
        "    \"\"\"\n",
        "    g = gradient(params,X,y,State_labels)\n",
        "    \n",
        "    new_weights = params - (lr*g)\n",
        "    \n",
        "    return new_weights"
      ],
      "execution_count": null,
      "outputs": []
    },
    {
      "cell_type": "code",
      "metadata": {
        "id": "ZiISGCoOt6mD"
      },
      "source": [
        "def predict(params,X):\n",
        "\n",
        "    \"\"\"\n",
        "    this function takes only the weights \"params\" and a single sample from the data\n",
        "\n",
        "    it returns a continous output ranging from 0 to 1. this requires rounding the output\n",
        "\n",
        "    \"\"\"\n",
        "\n",
        "    fid_1,fid_2 = circuit(params,X)\n",
        "\n",
        "\n",
        "    if fid_1 > fid_2:\n",
        "      \n",
        "      return abs(1-fid_1)\n",
        "    \n",
        "    else:\n",
        "\n",
        "      return fid_2\n",
        "    "
      ],
      "execution_count": null,
      "outputs": []
    },
    {
      "cell_type": "markdown",
      "metadata": {
        "id": "gzU0WG52Seo5"
      },
      "source": [
        "I have saved you the time and the following are the weights and the testing"
      ]
    },
    {
      "cell_type": "code",
      "metadata": {
        "id": "pJyIFRBOQ6jP"
      },
      "source": [
        "best_weights = np.array([[[ 1.13449496,  0.28881491,  1.41365572],\n",
        "        [ 1.04005053,  1.11646599, -1.71870497],\n",
        "        [ 0.23246252, -0.40714122,  0.48893466],\n",
        "        [ 1.21158487,  0.71205549, -0.76677812],\n",
        "        [ 2.46779094, -0.92909167, -0.34517346],\n",
        "        [-0.45782809,  0.81168315, -0.0658338 ]]])\n",
        "\n",
        "pred = []\n",
        "\n",
        "for j in range(len(x_test)):\n",
        "    pred.append(predict(best_weights,x_test[j]))"
      ],
      "execution_count": null,
      "outputs": []
    },
    {
      "cell_type": "code",
      "metadata": {
        "id": "s7IhwTjuRj0z",
        "outputId": "822a7709-9631-419d-a557-ed4c71789291",
        "colab": {
          "base_uri": "https://localhost:8080/",
          "height": 187
        }
      },
      "source": [
        "print(accuracy_score(np.array(pred).round(),y_test))\n",
        "print(classification_report(np.array(pred).round(),y_test))"
      ],
      "execution_count": null,
      "outputs": [
        {
          "output_type": "stream",
          "text": [
            "1.0\n",
            "              precision    recall  f1-score   support\n",
            "\n",
            "         0.0       1.00      1.00      1.00        45\n",
            "         1.0       1.00      1.00      1.00        45\n",
            "\n",
            "    accuracy                           1.00        90\n",
            "   macro avg       1.00      1.00      1.00        90\n",
            "weighted avg       1.00      1.00      1.00        90\n",
            "\n"
          ],
          "name": "stdout"
        }
      ]
    },
    {
      "cell_type": "code",
      "metadata": {
        "id": "Ux44fszvRtTW",
        "outputId": "b43f589d-bbd8-43b3-9aed-e435c5aa9147",
        "colab": {
          "base_uri": "https://localhost:8080/",
          "height": 269
        }
      },
      "source": [
        "xx, yy = np.meshgrid(np.linspace(-2, 2, 50), np.linspace(-2, 2, 50))\n",
        "X_grid = [np.array([x, y]) for x, y in zip(xx.flatten(), yy.flatten())]\n",
        "X_grid = np.hstack((X_grid,np.zeros(len(X_grid)).reshape(-1,1)))\n",
        "predictions_grid = [predict(best_weights, x) for x in X_grid]\n",
        "\n",
        "Z = np.reshape(np.array(predictions_grid).round(), xx.shape)\n",
        "cm = plt.cm.RdBu\n",
        "cnt = plt.contourf(xx, yy, Z, levels=np.arange(0., 1.1, 0.1), cmap=cm, alpha=.8)\n",
        "\n",
        "plt.colorbar(cnt, ticks=[0, 0.5, 1])\n",
        "plt.scatter(x_train[:, 0][y_train==0], x_train[:, 1][y_train==0], c='g', marker='^', edgecolors='k',label='train 0')\n",
        "plt.scatter(x_train[:, 0][y_train==1], x_train[:, 1][y_train==1], c='b', marker='*', edgecolors='k',label='train 1')\n",
        "plt.scatter(x_test[:, 0][y_test==0], x_test[:, 1][y_test==0], c='r', marker='+', edgecolors='k',label='test 0')\n",
        "plt.scatter(x_test[:, 0][y_test==1], x_test[:, 1][y_test==1], c='yellow', marker='x', edgecolors='k',label='test 1')\n",
        "\n",
        "plt.ylim(-1.07, 1.07)\n",
        "plt.xlim(-1.07, 1.07)\n",
        "plt.legend()\n",
        "plt.show()\n"
      ],
      "execution_count": null,
      "outputs": [
        {
          "output_type": "display_data",
          "data": {
            "image/png": "[encoded data removed]",
            "text/plain": [
              "<Figure size 432x288 with 2 Axes>"
            ]
          },
          "metadata": {
            "tags": []
          }
        }
      ]
    },
    {
      "cell_type": "markdown",
      "metadata": {
        "id": "vilrE1GWSVKR"
      },
      "source": [
        "The following cell of course gives you the pleasure of waiting till tyou train the network"
      ]
    },
    {
      "cell_type": "code",
      "metadata": {
        "id": "Aup0YP-7t6mH"
      },
      "source": [
        "np.random.seed(100) #to be reproducible \n",
        "#params = np.random.rand(1,6,3)\n",
        "weights = params\n",
        "loss = np.inf\n",
        "lr = 0.22\n",
        "test_loss = []\n",
        "epochs = 500\n",
        "batch_size = 20\n",
        "\n",
        "for it in range(epochs):\n",
        "\n",
        "\n",
        "    # create random indices every iteration \"stochastic gradient descent way not mini batch because of long time\" \n",
        "    index = np.random.randint(0,len(x_train),batch_size)\n",
        "    x_batch,y_batch = x_train[index],y_train[index]\n",
        "    # if you want to decay lr uncomment the following and edit it the way you want \n",
        "    #if i+1 == 500 or i+1 == 800:\n",
        "     #   lr = lr - 0.05\n",
        "    weights = optimize(weights,x_batch,y_batch,lr,State_labels)\n",
        "    \n",
        "    res = cost(weights,x_test,y_test,State_labels)\n",
        "    test_loss.append(res)\n",
        "\n",
        "    # save best weights based on testing portion of the data    \n",
        "    if res < loss:\n",
        "        loss = res\n",
        "        var = weights\n",
        "    print(\n",
        "        \"Epoch: {:2d} | testing loss: {:4f}\".format(it+1,res))"
      ],
      "execution_count": null,
      "outputs": []
    },
    {
      "cell_type": "code",
      "metadata": {
        "id": "X6C-bIGvt6mN",
        "outputId": "0fc9f4d8-b957-426c-cc8b-f15c12927ab3",
        "colab": {
          "base_uri": "https://localhost:8080/",
          "height": 279
        }
      },
      "source": [
        "plt.xlabel('no of epochs')\n",
        "plt.ylabel('test loss')\n",
        "plt.plot(range(len(test_loss)),test_loss)\n",
        "plt.show()"
      ],
      "execution_count": null,
      "outputs": [
        {
          "output_type": "display_data",
          "data": {
            "image/png": "[encoded data removed]",
            "text/plain": [
              "<Figure size 432x288 with 1 Axes>"
            ]
          },
          "metadata": {
            "tags": []
          }
        }
      ]
    },
    {
      "cell_type": "markdown",
      "metadata": {
        "id": "U4R--3ZlThwf"
      },
      "source": [
        "## Important Resources\n",
        "\n",
        "1. [qiskit book](https://qiskit.org/textbook/preface.html) which includes aqua the main source of AI algorithms in Qiskit\n",
        "2. [quantum machine learning book by Prof. Peter Wittek](https://www.researchgate.net/publication/264825604_Quantum_Machine_Learning_What_Quantum_Computing_Means_to_Data_Mining) may god rest his soul\n",
        "3. [Introduction to quantum machine learning ](https://arxiv.org/pdf/1409.3097.pdf)\n",
        "4. [Supervised Learning with Quantum Computers](https://www.springer.com/gp/book/9783319964232)\n",
        "5. [Quantum Computing for computer engineers](https://www.youtube.com/watch?v=F_Riqjdh2oM)\n",
        "6. [Quantum machine learning libraries](https://pennylane.ai/)\n",
        "\n",
        "\n",
        "---\n",
        "\n",
        "\n"
      ]
    },
    {
      "cell_type": "markdown",
      "metadata": {
        "id": "wmMg9y_JXpnQ"
      },
      "source": [
        "## Possible developments for this notebook\n",
        "1. Instead of measuring the fidelity we can use a real quantum computer and from the counts of of the states we can do a hermitian measurement which is the same as measuring the fidelity. This line is commented in the circuit function. Be careful because you should increase the number of shots while doing so to avoid any vairance in the output \n",
        "\n",
        "2. For this to happen we will need to convert the label vector into a matrix this can be done using the following code:\n",
        "\n",
        "\n",
        "```\n",
        "np.outer(zero,zero)\n",
        "```\n",
        "3. instead of indexing the paramters to calculate the gradients in this way we can unpack them and and only use a single for loop which can boost the speed a little bit.\n",
        "4. You can also try to smooth out the state labels and check what would happen to cost function."
      ]
    }
  ]
}