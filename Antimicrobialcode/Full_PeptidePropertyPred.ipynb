{
  "nbformat": 4,
  "nbformat_minor": 0,
  "metadata": {
    "colab": {
      "name": "Full_PeptidePropertyPred.ipynb",
      "provenance": [],
      "collapsed_sections": [],
      "toc_visible": true
    },
    "kernelspec": {
      "name": "python3",
      "display_name": "Python 3"
    },
    "accelerator": "GPU"
  },
  "cells": [
    {
      "cell_type": "markdown",
      "metadata": {
        "id": "dWmtQLZYgjFX"
      },
      "source": [
        "#**Peptide Property Predictor**\n",
        "---\n",
        "\n"
      ]
    },
    {
      "cell_type": "markdown",
      "metadata": {
        "id": "Xk5BR_Znf-iH"
      },
      "source": [
        "Change the runtime to GPU before executing the code (Runtime > Change runtime type > GPU)\n",
        "\n",
        "Note - Data gets lost if the session is restarted.\n",
        "\n",
        "*P.S. - The string \"&> /dev/null\" is added to remove the large outputs cluttering the cells. For any troubleshooting, remove it from the end of the required command.*\n",
        "\n"
      ]
    },
    {
      "cell_type": "markdown",
      "metadata": {
        "id": "k3IOuZqJ4oMJ"
      },
      "source": [
        "#1. Import the requirements\n",
        "\n",
        "---\n",
        "\n"
      ]
    },
    {
      "cell_type": "code",
      "metadata": {
        "id": "xLL6CkMhEzIB",
        "outputId": "3ca29b54-248d-4140-aace-dbbfcabc1602",
        "colab": {
          "base_uri": "https://localhost:8080/"
        }
      },
      "source": [
        "#Import required repositories and files\n",
        "!wget https://github.com/gifford-lab/DeepLigand/archive/master.zip &> /dev/null\n",
        "!unzip master.zip &> /dev/null\n",
        "%tensorflow_version 1.x\n",
        "!git clone https://github.com/moid99/PeptideMHCToxCPP.git &> /dev/null"
      ],
      "execution_count": null,
      "outputs": [
        {
          "output_type": "stream",
          "text": [
            "TensorFlow 1.x selected.\n"
          ],
          "name": "stdout"
        }
      ]
    },
    {
      "cell_type": "code",
      "metadata": {
        "id": "CPXD1HntbvI5"
      },
      "source": [
        "#Move them to a single directory\n",
        "!mv \"/content/PeptideMHCToxCPP/CellPenetratingModel.pth\" \"/content/DeepLigand-master\"\n",
        "!mv \"/content/PeptideMHCToxCPP/cellpenetratingpredictor.py\" \"/content/DeepLigand-master\"\n",
        "!mv \"/content/PeptideMHCToxCPP/ToxicityModel.pth\" \"/content/DeepLigand-master\"\n",
        "!mv \"/content/PeptideMHCToxCPP/toxicitypredictor.py\" \"/content/DeepLigand-master\"\n",
        "!mv \"/content/PeptideMHCToxCPP/embeddinggenerator.py\" \"/content/DeepLigand-master\"\n",
        "!mv \"/content/PeptideMHCToxCPP/mhc_peptide_pairer.py\" \"/content/DeepLigand-master\"\n",
        "!mv \"/content/PeptideMHCToxCPP/mhc_percentage.py\" \"/content/DeepLigand-master\"\n",
        "!rm -rf PeptideMHCToxCPP"
      ],
      "execution_count": null,
      "outputs": []
    },
    {
      "cell_type": "code",
      "metadata": {
        "id": "lxs1EhkRE3hS"
      },
      "source": [
        "#Install required packages\n",
        "!pip install ray==0.3.1 &> /dev/null\n",
        "!pip install bilm &> /dev/null\n",
        "!pip install torchsummary &> /dev/null\n",
        "!pip install -q transformers &> /dev/null"
      ],
      "execution_count": null,
      "outputs": []
    },
    {
      "cell_type": "code",
      "metadata": {
        "id": "Zz44wKOuE5jh",
        "outputId": "4aee57a4-f0eb-4b42-f59d-17434d3a9b92",
        "colab": {
          "base_uri": "https://localhost:8080/"
        }
      },
      "source": [
        "#Change to proper directory\n",
        "%cd /content/DeepLigand-master"
      ],
      "execution_count": null,
      "outputs": [
        {
          "output_type": "stream",
          "text": [
            "/content/DeepLigand-master\n"
          ],
          "name": "stdout"
        }
      ]
    },
    {
      "cell_type": "code",
      "metadata": {
        "id": "nWdS8yxyE8gR",
        "outputId": "c578bc6a-be0b-4e57-e83d-5335957ee083",
        "colab": {
          "base_uri": "https://localhost:8080/"
        }
      },
      "source": [
        "#Import proper libraries required to run the notebook\n",
        "import bilm\n",
        "from os.path import join, dirname, abspath\n",
        "from os import system\n",
        "\n",
        "system(' '.join(['cp', join(dirname(abspath(\"__file__\")), 'data.py'), join(bilm.__path__[0])]))\n",
        "import tensorflow as tf\n",
        "print(tf.__version__)\n",
        "import warnings\n",
        "warnings.filterwarnings(\"ignore\")"
      ],
      "execution_count": null,
      "outputs": [
        {
          "output_type": "stream",
          "text": [
            "1.15.2\n"
          ],
          "name": "stdout"
        }
      ]
    },
    {
      "cell_type": "markdown",
      "metadata": {
        "id": "-A78pMy76c8W"
      },
      "source": [
        "#2. Input your MHC and Peptide pair\n",
        "\n",
        "---\n",
        "\n"
      ]
    },
    {
      "cell_type": "markdown",
      "metadata": {
        "id": "nVZAUa_l6ud7"
      },
      "source": [
        "Enter your MHC and Peptide pair after leaving a space after the \"--list\" command separated by a space.(the format is given below)\n",
        "```\n",
        "!python mhc_peptide_pairer.py --list <MHC Name> <Peptide Name>\n",
        "```"
      ]
    },
    {
      "cell_type": "code",
      "metadata": {
        "id": "_1z3QrallAY1",
        "outputId": "ad2f8cd1-886e-4cf4-f056-391b30597db5",
        "colab": {
          "base_uri": "https://localhost:8080/",
          "height": 34
        }
      },
      "source": [
        "#Enter your input\n",
        "!python mhc_peptide_pairer.py --list HLA-B*40:02 AEFJJGHAF"
      ],
      "execution_count": null,
      "outputs": [
        {
          "output_type": "stream",
          "text": [
            "HLA-B4002,AEFJJGHAF\n"
          ],
          "name": "stdout"
        }
      ]
    },
    {
      "cell_type": "markdown",
      "metadata": {
        "id": "QqZYBTst8IOB"
      },
      "source": [
        "#3. Calculate Results\n",
        "\n",
        "---\n",
        "\n"
      ]
    },
    {
      "cell_type": "markdown",
      "metadata": {
        "id": "bpKswyxyw2j6"
      },
      "source": [
        "#Predict the MHC-peptide binding probability as a percentage -\n",
        "\n",
        "*Write 'yes' in the box that appears in the output if you are using the command for the second time after already using it once*"
      ]
    },
    {
      "cell_type": "code",
      "metadata": {
        "id": "LOiJSqVDFPYi",
        "outputId": "b02bfe91-4203-45fe-85de-2d0d8b8ff6d3",
        "colab": {
          "base_uri": "https://localhost:8080/",
          "height": 52
        }
      },
      "source": [
        "!python preprocess.py -f /content/DeepLigand-master/examples/singleexample -o /content/DeepLigand-master/trial &> /dev/null\n",
        "!python main.py -p /content/DeepLigand-master/trial/test.h5.batch -o /content/DeepLigand-master/trial/prediction &> /dev/null\n",
        "!python mhc_percentage.py"
      ],
      "execution_count": null,
      "outputs": [
        {
          "output_type": "stream",
          "text": [
            "yes\n",
            "Percentage =  99.93913173675537\n"
          ],
          "name": "stdout"
        }
      ]
    },
    {
      "cell_type": "markdown",
      "metadata": {
        "id": "x55RemgL97YT"
      },
      "source": [
        "Generate Embeddings for the peptide"
      ]
    },
    {
      "cell_type": "code",
      "metadata": {
        "id": "c4tA9QI6vP5i",
        "outputId": "de72a846-2789-4cec-fffe-bb31d12a05c1",
        "colab": {
          "base_uri": "https://localhost:8080/",
          "height": 72
        }
      },
      "source": [
        "!python embeddinggenerator.py"
      ],
      "execution_count": null,
      "outputs": [
        {
          "output_type": "stream",
          "text": [
            "/usr/local/lib/python3.6/dist-packages/statsmodels/tools/_testing.py:19: FutureWarning: pandas.util.testing is deprecated. Use the functions in the public API at pandas.testing instead.\n",
            "  import pandas.util.testing as tm\n"
          ],
          "name": "stdout"
        }
      ]
    },
    {
      "cell_type": "markdown",
      "metadata": {
        "id": "0yRglFkr-coa"
      },
      "source": [
        "#Predict whether the given peptide is toxic"
      ]
    },
    {
      "cell_type": "code",
      "metadata": {
        "id": "FoBmlfV55QXt",
        "outputId": "8396e5ab-79e2-4693-98dc-4eac7304eddb",
        "colab": {
          "base_uri": "https://localhost:8080/",
          "height": 34
        }
      },
      "source": [
        "!python toxicitypredictor.py"
      ],
      "execution_count": null,
      "outputs": [
        {
          "output_type": "stream",
          "text": [
            "non-toxic\n"
          ],
          "name": "stdout"
        }
      ]
    },
    {
      "cell_type": "markdown",
      "metadata": {
        "id": "jWlukAzl-p_E"
      },
      "source": [
        "#Predict whether the peptide is cell-penetrating or not"
      ]
    },
    {
      "cell_type": "code",
      "metadata": {
        "id": "jBy0rq8nD_bx",
        "outputId": "cb8741df-ee7b-40fa-b865-5ccde9a7daab",
        "colab": {
          "base_uri": "https://localhost:8080/",
          "height": 34
        }
      },
      "source": [
        "!python cellpenetratingpredictor.py"
      ],
      "execution_count": null,
      "outputs": [
        {
          "output_type": "stream",
          "text": [
            "cell-penetrating\n"
          ],
          "name": "stdout"
        }
      ]
    }
  ]
}