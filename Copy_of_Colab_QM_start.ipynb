{
  "nbformat": 4,
  "nbformat_minor": 0,
  "metadata": {
    "colab": {
      "name": "Copy of Colab_QM_start.ipynb",
      "provenance": [],
      "collapsed_sections": []
    },
    "kernelspec": {
      "name": "python3",
      "display_name": "Python 3"
    }
  },
  "cells": [
    {
      "cell_type": "markdown",
      "metadata": {
        "id": "3lsbYLsv1Ltm"
      },
      "source": [
        "#Installation and imports"
      ]
    },
    {
      "cell_type": "code",
      "metadata": {
        "id": "GD8_kXDfd9ri"
      },
      "source": [
        "%%capture\n",
        "%%bash\n",
        "# Install RDKit and xTB. Takes 2-3 minutes\n",
        "pip install rdkit-pypi\n",
        "pip install py3Dmol\n",
        "wget -c https://repo.continuum.io/miniconda/Miniconda3-latest-Linux-x86_64.sh\n",
        "chmod +x Miniconda3-latest-Linux-x86_64.sh\n",
        "bash ./Miniconda3-latest-Linux-x86_64.sh -b -f -p /usr/local\n",
        "#conda install -q -y -c conda-forge python=3.7\n",
        "#conda install -q -y -c conda-forge rdkit=2020.09.2\n",
        "conda install -q -y -c conda-forge xtb"
      ],
      "execution_count": null,
      "outputs": []
    },
    {
      "cell_type": "code",
      "metadata": {
        "id": "I3kWToSp7RMk"
      },
      "source": [
        "# Much faster RDKit install if you don't need xTB\n",
        "#%%capture\n",
        "#!pip install rdkit-pypi\n",
        "#!pip install py3Dmol"
      ],
      "execution_count": null,
      "outputs": []
    },
    {
      "cell_type": "code",
      "metadata": {
        "id": "d2jZ4Lkm1Tzz"
      },
      "source": [
        "import sys\n",
        "sys.path.append('/usr/local/lib/python3.7/site-packages/')\n",
        "\n",
        "from rdkit import Chem\n",
        "from rdkit.Chem import AllChem\n",
        "from collections import defaultdict\n",
        "from rdkit.Chem import rdFMCS\n",
        "from rdkit.Chem import Draw\n",
        "from rdkit.Chem.Draw import IPythonConsole\n",
        "from rdkit.Chem import rdDistGeom\n",
        "IPythonConsole.ipython_3d = True\n",
        "\n",
        "import py3Dmol\n",
        "import matplotlib.pyplot as plt\n",
        "import subprocess"
      ],
      "execution_count": null,
      "outputs": []
    },
    {
      "cell_type": "markdown",
      "metadata": {
        "id": "y0KcrgnP1Z3f"
      },
      "source": [
        "#Functions\n",
        "\n",
        "These functions are also available [here](https://github.com/jensengroup/rdkit_qm_utilities)"
      ]
    },
    {
      "cell_type": "markdown",
      "metadata": {
        "id": "YIqJtAmtdBKA"
      },
      "source": [
        "##write_xyz"
      ]
    },
    {
      "cell_type": "code",
      "metadata": {
        "id": "J6YyOLY01f4w"
      },
      "source": [
        "def write_xyz(mol, file_name='temp.xyz'):\n",
        "  number_of_atoms = mol.GetNumAtoms()\n",
        "  symbols = [a.GetSymbol() for a in mol.GetAtoms()] \n",
        "  with open(file_name, \"w\") as file:\n",
        "    file.write(str(number_of_atoms)+\"\\n\")\n",
        "    file.write(\"title\\n\")\n",
        "    conf = mol.GetConformers()[0]\n",
        "    for atom,symbol in enumerate(symbols):\n",
        "      p = conf.GetAtomPosition(atom)\n",
        "      line = \" \".join((symbol,str(p.x),str(p.y),str(p.z),\"\\n\"))\n",
        "      file.write(line)"
      ],
      "execution_count": null,
      "outputs": []
    },
    {
      "cell_type": "markdown",
      "metadata": {
        "id": "rn3r455LdE-F"
      },
      "source": [
        "##show_mol"
      ]
    },
    {
      "cell_type": "code",
      "metadata": {
        "id": "hn9YU4YQ1oTW"
      },
      "source": [
        "def show_mol(file_name, animate=False):\n",
        "  xyz=open(file_name, 'r').read()\n",
        "  p = py3Dmol.view(width=400,height=400)\n",
        "  if animate:\n",
        "    p.addModelsAsFrames(xyz,'xyz')\n",
        "    p.animate({'loop': \"forward\",'reps': 5})\n",
        "    #p.animate({'loop': 'backAndForth'})\n",
        "  else:\n",
        "    p.addModel(xyz,'xyz')\n",
        "  p.setStyle({'stick':{}})\n",
        "  p.setBackgroundColor('0xeeeeee')\n",
        "  p.zoomTo()\n",
        "  p.show()"
      ],
      "execution_count": null,
      "outputs": []
    },
    {
      "cell_type": "markdown",
      "metadata": {
        "id": "2VHKt_SrdGYp"
      },
      "source": [
        "##get_best_structure"
      ]
    },
    {
      "cell_type": "code",
      "metadata": {
        "id": "vsXpp_k71rQc"
      },
      "source": [
        "def get_best_structure(mol,n_confs=10):\n",
        "  new_mol = Chem.Mol(mol)\n",
        "\n",
        "  AllChem.EmbedMultipleConfs(mol,numConfs=n_confs,useExpTorsionAnglePrefs=True,useBasicKnowledge=True)\n",
        "  energies = AllChem.MMFFOptimizeMoleculeConfs(mol,maxIters=2000, nonBondedThresh=100.0)\n",
        "\n",
        "  energies_list = [e[1] for e in energies]\n",
        "  min_e_index = energies_list.index(min(energies_list))\n",
        "\n",
        "  new_mol.AddConformer(mol.GetConformer(min_e_index))\n",
        "\n",
        "  return new_mol"
      ],
      "execution_count": null,
      "outputs": []
    },
    {
      "cell_type": "markdown",
      "metadata": {
        "id": "8IEZNjMAdKCe"
      },
      "source": [
        "##shell"
      ]
    },
    {
      "cell_type": "code",
      "metadata": {
        "id": "h9Uk2l1I1ubf"
      },
      "source": [
        "def shell(cmd, shell=False):\n",
        "  #Written by Jimmy Kromann\n",
        "  if shell:\n",
        "    p = subprocess.Popen(cmd, shell=True, stdin=subprocess.PIPE, stdout=subprocess.PIPE, stderr=subprocess.PIPE)\n",
        "  else:\n",
        "    cmd = cmd.split()\n",
        "    p = subprocess.Popen(cmd, stdin=subprocess.PIPE, stdout=subprocess.PIPE, stderr=subprocess.PIPE)\n",
        "\n",
        "  output, err = p.communicate()\n",
        "  return output"
      ],
      "execution_count": null,
      "outputs": []
    },
    {
      "cell_type": "markdown",
      "metadata": {
        "id": "F1oy6KeDdLGN"
      },
      "source": [
        "##run_xTB"
      ]
    },
    {
      "cell_type": "code",
      "metadata": {
        "id": "o-1oAuT912lT"
      },
      "source": [
        "def run_xTB(mol, command, file_name='temp.xyz', conf_search=False):\n",
        "  mol = Chem.AddHs(mol)\n",
        "  if conf_search:\n",
        "    mol = get_best_structure(mol)\n",
        "  else:\n",
        "    rdDistGeom.EmbedMolecule(mol)\n",
        "    AllChem.MMFFOptimizeMolecule(mol)\n",
        "  write_xyz(mol)\n",
        "  command = 'xtb ' + file_name + ' ' + command\n",
        "  output = shell(command)\n",
        "  output = str(output).replace('\\\\n','\\n')\n",
        "  \n",
        "  return output"
      ],
      "execution_count": null,
      "outputs": []
    },
    {
      "cell_type": "markdown",
      "metadata": {
        "id": "b6V7G0y7dNXO"
      },
      "source": [
        "##get_energy"
      ]
    },
    {
      "cell_type": "code",
      "metadata": {
        "id": "40fYyw_v2EAn"
      },
      "source": [
        "def get_energy(output):\n",
        "  output = str(output)\n",
        "  energy = float(output.split('TOTAL ENERGY')[1].split('Eh')[0])\n",
        "\n",
        "  return energy"
      ],
      "execution_count": null,
      "outputs": []
    },
    {
      "cell_type": "markdown",
      "metadata": {
        "id": "thdsgvqmdPIQ"
      },
      "source": [
        "##run_rxn"
      ]
    },
    {
      "cell_type": "code",
      "metadata": {
        "id": "Z_N4MPmL2GTo"
      },
      "source": [
        " def run_rxn(reactant, smarts): \n",
        "  rxn = AllChem.ReactionFromSmarts(smarts)\n",
        "  ps = rxn.RunReactants((reactant,))\n",
        "  product = ps[0][0]\n",
        "  Chem.SanitizeMol(product)\n",
        "  \n",
        "  return product"
      ],
      "execution_count": null,
      "outputs": []
    },
    {
      "cell_type": "markdown",
      "metadata": {
        "id": "f5wfGhwDdTKQ"
      },
      "source": [
        "##reorder_product"
      ]
    },
    {
      "cell_type": "code",
      "metadata": {
        "id": "R-GIyVXi2Iov"
      },
      "source": [
        "def reorder_product(product):\n",
        "  reorder_inverse = [int(atom.GetProp('react_atom_idx')) for atom in product.GetAtoms()]\n",
        "  reorder = len(reorder_inverse)*[0]\n",
        "\n",
        "  for i in range(len(reorder_inverse)):\n",
        "    reorder[reorder_inverse[i]] = i\n",
        "\n",
        "  product = Chem.RenumberAtoms(product, reorder)\n",
        "\n",
        "  return product"
      ],
      "execution_count": null,
      "outputs": []
    },
    {
      "cell_type": "markdown",
      "metadata": {
        "id": "qqLVCTTbdXVw"
      },
      "source": [
        "##label_atoms"
      ]
    },
    {
      "cell_type": "code",
      "metadata": {
        "id": "Jg3msl542LGt"
      },
      "source": [
        "def label_atoms(mol):\n",
        "  for i,atom in enumerate(mol.GetAtoms()):\n",
        "    atom.SetAtomMapNum(i+1)\n",
        "  \n",
        "  return mol"
      ],
      "execution_count": null,
      "outputs": []
    },
    {
      "cell_type": "markdown",
      "metadata": {
        "id": "F_i0Yte7dZTN"
      },
      "source": [
        "##plot_PES"
      ]
    },
    {
      "cell_type": "code",
      "metadata": {
        "id": "LUcFXuo6dbCh"
      },
      "source": [
        ""
      ],
      "execution_count": null,
      "outputs": []
    },
    {
      "cell_type": "code",
      "metadata": {
        "id": "7wg2qtDE2N3n"
      },
      "source": [
        "def plot_PES():\n",
        "  output = shell('grep energy xtbpath.xyz')\n",
        "  energies = []\n",
        "  for line in str(output).split('\\\\n'):\n",
        "    if 'energy:' in line:\n",
        "      energies.append(float(line.split('energy:')[1].split('xtb:')[0]))\n",
        "\n",
        "  plt.plot(energies,'bo')\n",
        "  plt.ylabel('Relative energy (kcal/mol)')\n",
        "  plt.xlabel('Interpolation step')"
      ],
      "execution_count": null,
      "outputs": []
    },
    {
      "cell_type": "markdown",
      "metadata": {
        "id": "gz3oleWpZhsF"
      },
      "source": [
        "##offset"
      ]
    },
    {
      "cell_type": "code",
      "metadata": {
        "id": "CvV2Q7_9ZgYt"
      },
      "source": [
        "def offset(mol, offset=5):\n",
        "  smiles = Chem.MolToSmiles(mol, allHsExplicit=True)\n",
        "  smilesA = smiles.split('.')[0]\n",
        "  molA_idx = mol.GetSubstructMatch(Chem.MolFromSmiles(smilesA, sanitize=False))\n",
        "  conf = mol.GetConformer()\n",
        "  for i in range(mol.GetNumAtoms()):\n",
        "    p = conf.GetAtomPosition(i)\n",
        "    if i in molA_idx:\n",
        "      conf.SetAtomPosition(i,(p.x,p.y,p.z+offset))\n",
        "\n",
        "  return mol"
      ],
      "execution_count": null,
      "outputs": []
    },
    {
      "cell_type": "markdown",
      "metadata": {
        "id": "30FFGoP72TEd"
      },
      "source": [
        "#Some basics: geometry optimisation and getting the energy from the output"
      ]
    },
    {
      "cell_type": "markdown",
      "metadata": {
        "id": "DMXbfUEn2XDi"
      },
      "source": [
        "## Geometry optimisation\n",
        "\n",
        "[PubChem Sketcher](https://pubchem.ncbi.nlm.nih.gov/edit3/index.html): a GUI for SMILES generation\n",
        "\n",
        "Getting SMILES from [ChemDraw](https://youtu.be/A_gwCZrYIXY)"
      ]
    },
    {
      "cell_type": "markdown",
      "metadata": {
        "id": "G3teCdVz2efZ"
      },
      "source": [
        "##Getting a mol object/smiles from an xyz file\n"
      ]
    },
    {
      "cell_type": "code",
      "metadata": {
        "id": "ZrPCKJjq2kbC"
      },
      "source": [
        "%%capture\n",
        "!git clone https://github.com/jensengroup/xyz2mol.git\n",
        "import xyz2mol.xyz2mol as xyz2mol"
      ],
      "execution_count": null,
      "outputs": []
    },
    {
      "cell_type": "code",
      "metadata": {
        "id": "dMviM1VI2q-v"
      },
      "source": [
        "#atoms, charge, xyz_coordinates = xyz2mol.read_xyz_file('xtbopt.xyz')\n",
        "#mols = xyz2mol.xyz2mol(atoms, xyz_coordinates, charge=charge)\n",
        "#mol = Chem.RemoveHs(mols[0])\n",
        "#Chem.MolToSmiles(mol)"
      ],
      "execution_count": null,
      "outputs": []
    },
    {
      "cell_type": "markdown",
      "metadata": {
        "id": "jhHee5ui2lQt"
      },
      "source": [
        "## Getting the energy from the output\n",
        "\n",
        "The energy unit (Eh) is Hartree. 1 Hartree = 627.51 kcal/mol = 2625.08 kJ/mol"
      ]
    },
    {
      "cell_type": "markdown",
      "metadata": {
        "id": "I9NRfA8m23tp"
      },
      "source": [
        "#Reaction energies: pKa prediction\n",
        "\n",
        "$HA^+\\rightarrow A + H^+$  and $pK_a = \\frac{\\Delta G^\\circ}{RT\\ln(10)}$ but $\\Delta G^\\circ(H^+)=?$\n",
        "\n",
        "Instead: \n",
        "\n",
        "$HA^+ + A_{\\mathrm{ref}}\\rightarrow A + AH^+_{\\mathrm{ref}}$  and $\\Delta pK_a = \\frac{\\Delta G^\\circ}{RT\\ln(10)}$\n",
        "\n",
        "where $\\Delta G^\\circ \\approx \\Delta E$\n",
        "\n",
        "[Some pKa values](https://www.cambridgemedchemconsulting.com/resources/tuning_bases.html).  [Paper](https://dx.doi.org/10.1021/acs.jpca.6b10990)."
      ]
    },
    {
      "cell_type": "markdown",
      "metadata": {
        "id": "Ti4iCmyh2_HI"
      },
      "source": [
        "#Barrier estimation\n",
        "\n",
        "xTB has a quick and dirty [reaction path estimator](https://xtb-docs.readthedocs.io/en/latest/path.html) ([paper1](https://doi.org/10.1021/acs.jctc.9b00143), [paper2](https://doi.org/10.7717/peerj-pchem.15)).\n",
        "\n",
        "The following energy expression is minimized\n",
        "\n",
        "$E=E+k_{push} e^{-\\alpha \\Delta_r^{2}}+k_{pull} e^{-\\alpha \\Delta_p^{2}}$\n",
        "\n",
        "where $k_{push}>0$ and $k_{pull}<0$ and $\\Delta_r$ and $\\Delta_p$ are the RMSDs between the current structure and the reactant and product, respectively.\n",
        "\n",
        "The reaction path consists of points along the energy minisation path, with the biasing potential removed.\n",
        "\n",
        "Note that the atom order must be the same in the reactants and products."
      ]
    },
    {
      "cell_type": "markdown",
      "metadata": {
        "id": "BzJ6DC1l3MwD"
      },
      "source": [
        "## Reaction smarts"
      ]
    },
    {
      "cell_type": "markdown",
      "metadata": {
        "id": "zal6d_GB3MlC"
      },
      "source": [
        "##atom_mapper"
      ]
    },
    {
      "cell_type": "code",
      "metadata": {
        "id": "K3zhCU6c3ecW"
      },
      "source": [
        "%%capture\n",
        "!git clone https://github.com/jensengroup/atom_mapper.git"
      ],
      "execution_count": null,
      "outputs": []
    }
  ]
}